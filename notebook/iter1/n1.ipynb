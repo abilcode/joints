{
 "cells": [
  {
   "cell_type": "code",
   "execution_count": 1,
   "metadata": {},
   "outputs": [],
   "source": [
    "import pandas as pd\n",
    "import numpy as np\n",
    "\n",
    "import matplotlib.pyplot as plt \n",
    "import seaborn as sns\n",
    "\n",
    "import os\n",
    "\n"
   ]
  },
  {
   "cell_type": "code",
   "execution_count": 3,
   "metadata": {},
   "outputs": [
    {
     "name": "stderr",
     "output_type": "stream",
     "text": [
      "/var/folders/yt/n9_2kr5s6nx_5b2y_kx3mnnm0000gn/T/ipykernel_19581/639007133.py:1: DtypeWarning: Columns (1,3,5,6,7,8,9,10,11,12,13,16,17,19,20) have mixed types. Specify dtype option on import or set low_memory=False.\n",
      "  train = pd.read_csv(\"/Users/abilfad/Documents/CODE/joints/data/penyisihan-joints-data-competition-2023/train.csv\")\n"
     ]
    }
   ],
   "source": [
    "train = pd.read_csv(\"/Users/abilfad/Documents/CODE/joints/data/penyisihan-joints-data-competition-2023/train.csv\")\n",
    "test = pd.read_csv(\"/Users/abilfad/Documents/CODE/joints/data/penyisihan-joints-data-competition-2023/test.csv\")\n",
    "\n",
    "cols_var = [i for i in test.columns]\n",
    "cols_cat = [i for i in cols_var if test[i].dtypes  == 'object']\n",
    "cols_num = [i for i in cols_var if i not in cols_cat]"
   ]
  }
 ],
 "metadata": {
  "kernelspec": {
   "display_name": "base",
   "language": "python",
   "name": "python3"
  },
  "language_info": {
   "codemirror_mode": {
    "name": "ipython",
    "version": 3
   },
   "file_extension": ".py",
   "mimetype": "text/x-python",
   "name": "python",
   "nbconvert_exporter": "python",
   "pygments_lexer": "ipython3",
   "version": "3.9.7"
  },
  "orig_nbformat": 4
 },
 "nbformat": 4,
 "nbformat_minor": 2
}
