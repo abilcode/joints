{
 "cells": [
  {
   "cell_type": "code",
   "execution_count": 27,
   "metadata": {},
   "outputs": [],
   "source": [
    "import pandas as pd\n",
    "import numpy as np\n",
    "import matplotlib.pyplot as plt\n",
    "import seaborn as sns\n",
    "\n",
    "from sklearn.model_selection import StratifiedKFold, KFold\n",
    "from sklearn.metrics import f1_score\n",
    "\n",
    "\n",
    "from sklearn.preprocessing import LabelEncoder\n",
    "from sklearn.impute import KNNImputer\n"
   ]
  },
  {
   "cell_type": "code",
   "execution_count": 2,
   "metadata": {},
   "outputs": [],
   "source": [
    "## FUN\n",
    "\n",
    "\n",
    "def cross_validation(X,y,model):\n",
    "    f1 = []\n",
    "    skf = StratifiedKFold(n_splits=5, shuffle=True, random_state=42)\n",
    "    for train_index, test_index in skf.split(X, y):\n",
    "        X_train, X_test = X.iloc[train_index], X.iloc[test_index]\n",
    "        y_train, y_test = y.iloc[train_index], y.iloc[test_index]\n",
    "        model.fit(X_train, y_train)\n",
    "        y_pred = model.predict(X_test)\n",
    "        f1_macro = f1_score(y_test, y_pred, average = 'macro')\n",
    "        f1.append(f1_macro)\n",
    "    return f1\n"
   ]
  },
  {
   "cell_type": "code",
   "execution_count": 16,
   "metadata": {},
   "outputs": [],
   "source": [
    "def load_data(dir_data):\n",
    "    data = pd.read_csv(dir)\n",
    "    data = data.iloc[:,2:]\n",
    "    return data\n",
    "    "
   ]
  },
  {
   "attachments": {},
   "cell_type": "markdown",
   "metadata": {},
   "source": [
    "## dropna"
   ]
  },
  {
   "attachments": {},
   "cell_type": "markdown",
   "metadata": {},
   "source": [
    "### naive drop"
   ]
  },
  {
   "cell_type": "code",
   "execution_count": 3,
   "metadata": {},
   "outputs": [
    {
     "name": "stderr",
     "output_type": "stream",
     "text": [
      "/var/folders/yt/n9_2kr5s6nx_5b2y_kx3mnnm0000gn/T/ipykernel_62529/390627105.py:1: DtypeWarning: Columns (6,7,8,9,11,12,13,14,17,20,21) have mixed types. Specify dtype option on import or set low_memory=False.\n",
      "  train = pd.read_csv('../data/preprocess/train_t1.csv')\n"
     ]
    }
   ],
   "source": [
    "train = pd.read_csv('../data/preprocess/train_t1.csv')\n",
    "test = pd.read_csv('../data/preprocess/test1.csv')"
   ]
  },
  {
   "cell_type": "code",
   "execution_count": 4,
   "metadata": {},
   "outputs": [
    {
     "name": "stdout",
     "output_type": "stream",
     "text": [
      "<class 'pandas.core.frame.DataFrame'>\n",
      "RangeIndex: 722815 entries, 0 to 722814\n",
      "Data columns (total 26 columns):\n",
      " #   Column                          Non-Null Count   Dtype  \n",
      "---  ------                          --------------   -----  \n",
      " 0   Unnamed: 0.1                    722815 non-null  int64  \n",
      " 1   Unnamed: 0                      722815 non-null  int64  \n",
      " 2   floors_before_eq (total)        390009 non-null  float64\n",
      " 3   old_building                    483611 non-null  float64\n",
      " 4   plinth_area (ft^2)              301607 non-null  float64\n",
      " 5   height_before_eq (ft)           390009 non-null  float64\n",
      " 6   land_surface_condition          421209 non-null  object \n",
      " 7   type_of_foundation              483611 non-null  object \n",
      " 8   type_of_roof                    301607 non-null  object \n",
      " 9   type_of_ground_floor            390009 non-null  object \n",
      " 10  type_of_other_floor             722815 non-null  object \n",
      " 11  position                        410809 non-null  object \n",
      " 12  building_plan_configuration     421209 non-null  object \n",
      " 13  technical_solution_proposed     46801 non-null   object \n",
      " 14  legal_ownership_status          598013 non-null  object \n",
      " 15  has_secondary_use               525211 non-null  float64\n",
      " 16  type_of_reinforcement_concrete  431609 non-null  float64\n",
      " 17  residential_type                452411 non-null  object \n",
      " 18  no_family_residing              577213 non-null  float64\n",
      " 19  public_place_type               722815 non-null  object \n",
      " 20  industrial_use_type             608413 non-null  object \n",
      " 21  govermental_use_type            473211 non-null  object \n",
      " 22  flexible_superstructure         660415 non-null  object \n",
      " 23  wall_binding                    660415 non-null  float64\n",
      " 24  wall_material                   494011 non-null  float64\n",
      " 25  damage_grade                    722815 non-null  float64\n",
      "dtypes: float64(10), int64(2), object(14)\n",
      "memory usage: 143.4+ MB\n",
      "<class 'pandas.core.frame.DataFrame'>\n",
      "RangeIndex: 242082 entries, 0 to 242081\n",
      "Data columns (total 25 columns):\n",
      " #   Column                          Non-Null Count   Dtype  \n",
      "---  ------                          --------------   -----  \n",
      " 0   Unnamed: 0                      242082 non-null  int64  \n",
      " 1   id                              242082 non-null  int64  \n",
      " 2   floors_before_eq (total)        242082 non-null  object \n",
      " 3   old_building                    242082 non-null  int64  \n",
      " 4   plinth_area (ft^2)              242082 non-null  object \n",
      " 5   height_before_eq (ft)           242082 non-null  int64  \n",
      " 6   land_surface_condition          242082 non-null  object \n",
      " 7   type_of_foundation              242082 non-null  object \n",
      " 8   type_of_roof                    242082 non-null  object \n",
      " 9   type_of_ground_floor            242082 non-null  object \n",
      " 10  type_of_other_floor             242082 non-null  object \n",
      " 11  position                        242082 non-null  object \n",
      " 12  building_plan_configuration     242082 non-null  object \n",
      " 13  technical_solution_proposed     242082 non-null  object \n",
      " 14  legal_ownership_status          242082 non-null  object \n",
      " 15  has_secondary_use               242082 non-null  float64\n",
      " 16  type_of_reinforcement_concrete  242082 non-null  int64  \n",
      " 17  residential_type                242082 non-null  object \n",
      " 18  no_family_residing              242082 non-null  object \n",
      " 19  public_place_type               242082 non-null  object \n",
      " 20  industrial_use_type             242082 non-null  object \n",
      " 21  govermental_use_type            242082 non-null  object \n",
      " 22  flexible_superstructure         242082 non-null  object \n",
      " 23  wall_binding                    242082 non-null  int64  \n",
      " 24  wall_material                   242082 non-null  int64  \n",
      "dtypes: float64(1), int64(7), object(17)\n",
      "memory usage: 46.2+ MB\n"
     ]
    },
    {
     "data": {
      "text/plain": [
       "(None, None)"
      ]
     },
     "execution_count": 4,
     "metadata": {},
     "output_type": "execute_result"
    }
   ],
   "source": [
    "train.info(), test.info()"
   ]
  },
  {
   "cell_type": "code",
   "execution_count": 5,
   "metadata": {},
   "outputs": [],
   "source": [
    "train = train.iloc[:,2:]\n",
    "test = test.iloc[:,2:]"
   ]
  },
  {
   "cell_type": "code",
   "execution_count": 6,
   "metadata": {},
   "outputs": [],
   "source": [
    "train = train.copy().drop(labels='technical_solution_proposed',axis=1)"
   ]
  },
  {
   "cell_type": "code",
   "execution_count": 7,
   "metadata": {},
   "outputs": [],
   "source": [
    "train = train.copy().dropna()"
   ]
  },
  {
   "cell_type": "code",
   "execution_count": 8,
   "metadata": {},
   "outputs": [
    {
     "data": {
      "text/plain": [
       "301607"
      ]
     },
     "execution_count": 8,
     "metadata": {},
     "output_type": "execute_result"
    }
   ],
   "source": [
    "train.shape[0]"
   ]
  },
  {
   "cell_type": "code",
   "execution_count": 9,
   "metadata": {},
   "outputs": [
    {
     "data": {
      "text/plain": [
       "[0.31957175718186004,\n",
       " 0.31954539564297885,\n",
       " 0.31852149643801403,\n",
       " 0.31913289604828815,\n",
       " 0.3184693494250852]"
      ]
     },
     "execution_count": 9,
     "metadata": {},
     "output_type": "execute_result"
    }
   ],
   "source": [
    "from sklearn.tree import DecisionTreeClassifier\n",
    "from catboost.utils import eval_metric\n",
    "from sklearn.model_selection import StratifiedKFold, KFold\n",
    "from sklearn.metrics import f1_score\n",
    "\n",
    "X = train.iloc[:,:-1]\n",
    "y = train.iloc[:,-1]\n",
    "cat_features = X .select_dtypes(include='object').columns.tolist()\n",
    "one_hot_encoded = pd.get_dummies(X[cat_features])\n",
    "cols_var = [i for i in X if i not in cat_features]\n",
    "df_encoded = pd.concat([X.loc[:,cols_var], one_hot_encoded], axis=1)\n",
    "\n",
    "\n",
    "# Set up the StratifiedKFold for cross validation\n",
    "skf = StratifiedKFold(n_splits=5, shuffle=True, random_state=42)\n",
    "dt = DecisionTreeClassifier()\n",
    "f1 = cross_validation(df_encoded, y,dt)\n",
    "f1\n"
   ]
  },
  {
   "attachments": {},
   "cell_type": "markdown",
   "metadata": {},
   "source": [
    "## fillna"
   ]
  },
  {
   "attachments": {},
   "cell_type": "markdown",
   "metadata": {},
   "source": [
    "### naive fill"
   ]
  },
  {
   "cell_type": "code",
   "execution_count": 10,
   "metadata": {},
   "outputs": [
    {
     "name": "stderr",
     "output_type": "stream",
     "text": [
      "/var/folders/yt/n9_2kr5s6nx_5b2y_kx3mnnm0000gn/T/ipykernel_62529/3795278590.py:1: DtypeWarning: Columns (6,7,8,9,11,12,13,14,17,20,21) have mixed types. Specify dtype option on import or set low_memory=False.\n",
      "  train_fill = pd.read_csv('../data/preprocess/train_t1.csv')\n"
     ]
    },
    {
     "data": {
      "text/plain": [
       "[0.35896088217166844,\n",
       " 0.36054246335054396,\n",
       " 0.3576543569459134,\n",
       " 0.3595852805395202,\n",
       " 0.35767838788102396]"
      ]
     },
     "execution_count": 10,
     "metadata": {},
     "output_type": "execute_result"
    }
   ],
   "source": [
    "train_fill = pd.read_csv('../data/preprocess/train_t1.csv')\n",
    "train_fill = train_fill.iloc[:,2:]\n",
    "X = train_fill.iloc[:,:-1]\n",
    "y = train_fill.iloc[:,-1]\n",
    "cat_features = X .select_dtypes(include='object').columns.tolist()\n",
    "one_hot_encoded = pd.get_dummies(X[cat_features])\n",
    "df_encoded = pd.concat([X.loc[:,cols_var], one_hot_encoded], axis=1)\n",
    "df_encoded = df_encoded.copy().dropna(axis=0)\n",
    "# Set up the StratifiedKFold for cross validation\n",
    "skf = StratifiedKFold(n_splits=5, shuffle=True, random_state=42)\n",
    "dt = DecisionTreeClassifier()\n",
    "f1 = cross_validation(df_encoded, y.iloc[df_encoded.index],dt)\n",
    "f1"
   ]
  },
  {
   "cell_type": "code",
   "execution_count": 11,
   "metadata": {},
   "outputs": [
    {
     "data": {
      "text/plain": [
       "floors_before_eq (total)                      0\n",
       "old_building                                  0\n",
       "plinth_area (ft^2)                            0\n",
       "height_before_eq (ft)                         0\n",
       "has_secondary_use                             0\n",
       "                                             ..\n",
       "govermental_use_type_Govermental Buildings    0\n",
       "govermental_use_type_Non-govermental          0\n",
       "govermental_use_type_Police Offices           0\n",
       "flexible_superstructure_available             0\n",
       "flexible_superstructure_unavailable           0\n",
       "Length: 108, dtype: int64"
      ]
     },
     "execution_count": 11,
     "metadata": {},
     "output_type": "execute_result"
    }
   ],
   "source": [
    "df_encoded.isna().sum()"
   ]
  },
  {
   "cell_type": "code",
   "execution_count": 12,
   "metadata": {},
   "outputs": [
    {
     "name": "stderr",
     "output_type": "stream",
     "text": [
      "/opt/anaconda3/lib/python3.9/site-packages/seaborn/_decorators.py:36: FutureWarning: Pass the following variable as a keyword arg: x. From version 0.12, the only valid positional argument will be `data`, and passing other arguments without an explicit keyword will result in an error or misinterpretation.\n",
      "  warnings.warn(\n"
     ]
    },
    {
     "data": {
      "text/plain": [
       "<matplotlib.axes._subplots.AxesSubplot at 0x7ff0bbcbabb0>"
      ]
     },
     "execution_count": 12,
     "metadata": {},
     "output_type": "execute_result"
    },
    {
     "data": {
      "image/png": "[encoded data removed]",
      "text/plain": [
       "<Figure size 432x288 with 1 Axes>"
      ]
     },
     "metadata": {
      "needs_background": "light"
     },
     "output_type": "display_data"
    }
   ],
   "source": [
    "sns.countplot(test['technical_solution_proposed'])"
   ]
  },
  {
   "cell_type": "code",
   "execution_count": 14,
   "metadata": {},
   "outputs": [
    {
     "name": "stderr",
     "output_type": "stream",
     "text": [
      "/opt/anaconda3/lib/python3.9/site-packages/seaborn/_decorators.py:36: FutureWarning: Pass the following variable as a keyword arg: x. From version 0.12, the only valid positional argument will be `data`, and passing other arguments without an explicit keyword will result in an error or misinterpretation.\n",
      "  warnings.warn(\n"
     ]
    },
    {
     "data": {
      "text/plain": [
       "<matplotlib.axes._subplots.AxesSubplot at 0x7ff10ffa46a0>"
      ]
     },
     "execution_count": 14,
     "metadata": {},
     "output_type": "execute_result"
    },
    {
     "data": {
      "image/png": "[encoded data removed]",
      "text/plain": [
       "<Figure size 432x288 with 1 Axes>"
      ]
     },
     "metadata": {
      "needs_background": "light"
     },
     "output_type": "display_data"
    }
   ],
   "source": [
    "sns.countplot(train_fill['technical_solution_proposed'])"
   ]
  },
  {
   "cell_type": "code",
   "execution_count": 15,
   "metadata": {},
   "outputs": [
    {
     "name": "stderr",
     "output_type": "stream",
     "text": [
      "/opt/anaconda3/lib/python3.9/site-packages/seaborn/_decorators.py:36: FutureWarning: Pass the following variable as a keyword arg: x. From version 0.12, the only valid positional argument will be `data`, and passing other arguments without an explicit keyword will result in an error or misinterpretation.\n",
      "  warnings.warn(\n"
     ]
    },
    {
     "data": {
      "text/plain": [
       "<matplotlib.axes._subplots.AxesSubplot at 0x7ff0fd0ea640>"
      ]
     },
     "execution_count": 15,
     "metadata": {},
     "output_type": "execute_result"
    },
    {
     "data": {
      "image/png": "[encoded data removed]",
      "text/plain": [
       "<Figure size 432x288 with 1 Axes>"
      ]
     },
     "metadata": {
      "needs_background": "light"
     },
     "output_type": "display_data"
    }
   ],
   "source": [
    "sns.countplot(train_fill['damage_grade'])"
   ]
  },
  {
   "attachments": {},
   "cell_type": "markdown",
   "metadata": {},
   "source": [
    "### KNN inputer"
   ]
  },
  {
   "cell_type": "code",
   "execution_count": 42,
   "metadata": {},
   "outputs": [
    {
     "name": "stderr",
     "output_type": "stream",
     "text": [
      "/var/folders/yt/n9_2kr5s6nx_5b2y_kx3mnnm0000gn/T/ipykernel_62529/126058878.py:1: DtypeWarning: Columns (6,7,8,9,11,12,13,14,17,20,21) have mixed types. Specify dtype option on import or set low_memory=False.\n",
      "  data = pd.read_csv('../data/preprocess/train_t1.csv')\n"
     ]
    }
   ],
   "source": [
    "data = pd.read_csv('../data/preprocess/train_t1.csv')\n",
    "test = pd.read_csv('../data/preprocess/test1.csv')\n",
    "data = data.iloc[:,2:]\n",
    "test = test.iloc[:,2:]\n"
   ]
  },
  {
   "cell_type": "code",
   "execution_count": 43,
   "metadata": {},
   "outputs": [
    {
     "name": "stdout",
     "output_type": "stream",
     "text": [
      "(431609, 23)\n",
      "floors_before_eq (total)           41600\n",
      "old_building                           0\n",
      "plinth_area (ft^2)                130002\n",
      "height_before_eq (ft)              41600\n",
      "has_secondary_use                      0\n",
      "type_of_reinforcement_concrete         0\n",
      "no_family_residing                     0\n",
      "wall_binding                           0\n",
      "wall_material                          0\n",
      "land_surface_condition             10400\n",
      "type_of_foundation                     0\n",
      "type_of_roof                      130002\n",
      "type_of_ground_floor               41600\n",
      "type_of_other_floor                    0\n",
      "position                           20800\n",
      "building_plan_configuration        10400\n",
      "legal_ownership_status                 0\n",
      "residential_type                       0\n",
      "public_place_type                      0\n",
      "industrial_use_type                    0\n",
      "govermental_use_type                   0\n",
      "flexible_superstructure                0\n",
      "dtype: int64\n"
     ]
    },
    {
     "ename": "AttributeError",
     "evalue": "'numpy.ndarray' object has no attribute 'isna'",
     "output_type": "error",
     "traceback": [
      "\u001b[0;31m---------------------------------------------------------------------------\u001b[0m",
      "\u001b[0;31mAttributeError\u001b[0m                            Traceback (most recent call last)",
      "\u001b[0;32m/var/folders/yt/n9_2kr5s6nx_5b2y_kx3mnnm0000gn/T/ipykernel_62529/444768173.py\u001b[0m in \u001b[0;36m<module>\u001b[0;34m\u001b[0m\n\u001b[1;32m     20\u001b[0m \u001b[0mimputer\u001b[0m \u001b[0;34m=\u001b[0m \u001b[0mKNNImputer\u001b[0m\u001b[0;34m(\u001b[0m\u001b[0mn_neighbors\u001b[0m\u001b[0;34m=\u001b[0m\u001b[0;36m1\u001b[0m\u001b[0;34m)\u001b[0m\u001b[0;34m\u001b[0m\u001b[0;34m\u001b[0m\u001b[0m\n\u001b[1;32m     21\u001b[0m \u001b[0mtmp\u001b[0m \u001b[0;34m=\u001b[0m \u001b[0mimputer\u001b[0m\u001b[0;34m.\u001b[0m\u001b[0mfit_transform\u001b[0m\u001b[0;34m(\u001b[0m\u001b[0mtmp\u001b[0m\u001b[0;34m)\u001b[0m\u001b[0;34m\u001b[0m\u001b[0;34m\u001b[0m\u001b[0m\n\u001b[0;32m---> 22\u001b[0;31m \u001b[0mtmp\u001b[0m\u001b[0;34m.\u001b[0m\u001b[0misna\u001b[0m\u001b[0;34m(\u001b[0m\u001b[0;34m)\u001b[0m\u001b[0;34m.\u001b[0m\u001b[0msum\u001b[0m\u001b[0;34m(\u001b[0m\u001b[0;34m)\u001b[0m\u001b[0;34m\u001b[0m\u001b[0;34m\u001b[0m\u001b[0m\n\u001b[0m",
      "\u001b[0;31mAttributeError\u001b[0m: 'numpy.ndarray' object has no attribute 'isna'"
     ]
    }
   ],
   "source": [
    "data = data.drop('technical_solution_proposed',axis=1)\n",
    "data = data.dropna(thresh=15)\n",
    "\n",
    "print(data.shape)\n",
    "X = data.iloc[:,:-1]\n",
    "y = data.iloc[:,-1]\n",
    "\n",
    "### train\n",
    "cat_features = X .select_dtypes(include='object').columns.tolist()\n",
    "one_hot_encoded = pd.get_dummies(X[cat_features])\n",
    "cols_var = [i for i in X.columns if i not in cat_features]\n",
    "tmp = (X[cols_var]-X[cols_var].mean())/X[cols_var].std()\n",
    "tmp = pd.concat([tmp,X[cat_features]],axis=1)\n",
    "\n",
    "tmp = tmp.apply(lambda series: pd.Series(\n",
    "        LabelEncoder().fit_transform(series[series.notnull()]),\n",
    "        index=series[series.notnull()].index\n",
    "    ))\n",
    "print(tmp.isna().sum())\n",
    "imputer = KNNImputer(n_neighbors=1)\n",
    "tmp = imputer.fit_transform(tmp)\n",
    "\n",
    "df = pd.DataFrame(tmp,columns=X.columns)\n",
    "cross_validation(df,y,dt)"
   ]
  },
  {
   "cell_type": "code",
   "execution_count": 50,
   "metadata": {},
   "outputs": [
    {
     "data": {
      "text/plain": [
       "[0.4022026128603568,\n",
       " 0.40624909172144347,\n",
       " 0.4050234762873126,\n",
       " 0.4047708788245491,\n",
       " 0.4031387777422581]"
      ]
     },
     "execution_count": 50,
     "metadata": {},
     "output_type": "execute_result"
    }
   ],
   "source": []
  },
  {
   "attachments": {},
   "cell_type": "markdown",
   "metadata": {},
   "source": [
    "knn inputer actually has significant output"
   ]
  },
  {
   "cell_type": "code",
   "execution_count": null,
   "metadata": {},
   "outputs": [],
   "source": []
  }
 ],
 "metadata": {
  "kernelspec": {
   "display_name": "base",
   "language": "python",
   "name": "python3"
  },
  "language_info": {
   "codemirror_mode": {
    "name": "ipython",
    "version": 3
   },
   "file_extension": ".py",
   "mimetype": "text/x-python",
   "name": "python",
   "nbconvert_exporter": "python",
   "pygments_lexer": "ipython3",
   "version": "3.9.7"
  },
  "orig_nbformat": 4
 },
 "nbformat": 4,
 "nbformat_minor": 2
}
