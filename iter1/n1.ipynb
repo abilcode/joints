{
 "cells": [
  {
   "cell_type": "code",
   "execution_count": 10,
   "metadata": {},
   "outputs": [],
   "source": [
    "import pandas as pd\n",
    "import numpy as np\n",
    "import matplotlib.pyplot as plt\n",
    "import seaborn as sns\n"
   ]
  },
  {
   "cell_type": "code",
   "execution_count": 11,
   "metadata": {},
   "outputs": [
    {
     "name": "stderr",
     "output_type": "stream",
     "text": [
      "/var/folders/yt/n9_2kr5s6nx_5b2y_kx3mnnm0000gn/T/ipykernel_52740/390627105.py:1: DtypeWarning: Columns (6,7,8,9,11,12,13,14,17,20,21) have mixed types. Specify dtype option on import or set low_memory=False.\n",
      "  train = pd.read_csv('../data/preprocess/train_t1.csv')\n"
     ]
    }
   ],
   "source": [
    "train = pd.read_csv('../data/preprocess/train_t1.csv')\n",
    "test = pd.read_csv('../data/preprocess/test1.csv')"
   ]
  },
  {
   "cell_type": "code",
   "execution_count": 12,
   "metadata": {},
   "outputs": [
    {
     "name": "stdout",
     "output_type": "stream",
     "text": [
      "<class 'pandas.core.frame.DataFrame'>\n",
      "RangeIndex: 722815 entries, 0 to 722814\n",
      "Data columns (total 26 columns):\n",
      " #   Column                          Non-Null Count   Dtype  \n",
      "---  ------                          --------------   -----  \n",
      " 0   Unnamed: 0.1                    722815 non-null  int64  \n",
      " 1   Unnamed: 0                      722815 non-null  int64  \n",
      " 2   floors_before_eq (total)        390009 non-null  float64\n",
      " 3   old_building                    483611 non-null  float64\n",
      " 4   plinth_area (ft^2)              301607 non-null  float64\n",
      " 5   height_before_eq (ft)           390009 non-null  float64\n",
      " 6   land_surface_condition          421209 non-null  object \n",
      " 7   type_of_foundation              483611 non-null  object \n",
      " 8   type_of_roof                    301607 non-null  object \n",
      " 9   type_of_ground_floor            390009 non-null  object \n",
      " 10  type_of_other_floor             722815 non-null  object \n",
      " 11  position                        410809 non-null  object \n",
      " 12  building_plan_configuration     421209 non-null  object \n",
      " 13  technical_solution_proposed     46801 non-null   object \n",
      " 14  legal_ownership_status          598013 non-null  object \n",
      " 15  has_secondary_use               525211 non-null  float64\n",
      " 16  type_of_reinforcement_concrete  431609 non-null  float64\n",
      " 17  residential_type                452411 non-null  object \n",
      " 18  no_family_residing              577213 non-null  float64\n",
      " 19  public_place_type               722815 non-null  object \n",
      " 20  industrial_use_type             608413 non-null  object \n",
      " 21  govermental_use_type            473211 non-null  object \n",
      " 22  flexible_superstructure         660415 non-null  object \n",
      " 23  wall_binding                    660415 non-null  float64\n",
      " 24  wall_material                   494011 non-null  float64\n",
      " 25  damage_grade                    722815 non-null  float64\n",
      "dtypes: float64(10), int64(2), object(14)\n",
      "memory usage: 143.4+ MB\n",
      "<class 'pandas.core.frame.DataFrame'>\n",
      "RangeIndex: 242082 entries, 0 to 242081\n",
      "Data columns (total 25 columns):\n",
      " #   Column                          Non-Null Count   Dtype  \n",
      "---  ------                          --------------   -----  \n",
      " 0   Unnamed: 0                      242082 non-null  int64  \n",
      " 1   id                              242082 non-null  int64  \n",
      " 2   floors_before_eq (total)        242082 non-null  object \n",
      " 3   old_building                    242082 non-null  int64  \n",
      " 4   plinth_area (ft^2)              242082 non-null  object \n",
      " 5   height_before_eq (ft)           242082 non-null  int64  \n",
      " 6   land_surface_condition          242082 non-null  object \n",
      " 7   type_of_foundation              242082 non-null  object \n",
      " 8   type_of_roof                    242082 non-null  object \n",
      " 9   type_of_ground_floor            242082 non-null  object \n",
      " 10  type_of_other_floor             242082 non-null  object \n",
      " 11  position                        242082 non-null  object \n",
      " 12  building_plan_configuration     242082 non-null  object \n",
      " 13  technical_solution_proposed     242082 non-null  object \n",
      " 14  legal_ownership_status          242082 non-null  object \n",
      " 15  has_secondary_use               242082 non-null  float64\n",
      " 16  type_of_reinforcement_concrete  242082 non-null  int64  \n",
      " 17  residential_type                242082 non-null  object \n",
      " 18  no_family_residing              242082 non-null  object \n",
      " 19  public_place_type               242082 non-null  object \n",
      " 20  industrial_use_type             242082 non-null  object \n",
      " 21  govermental_use_type            242082 non-null  object \n",
      " 22  flexible_superstructure         242082 non-null  object \n",
      " 23  wall_binding                    242082 non-null  int64  \n",
      " 24  wall_material                   242082 non-null  int64  \n",
      "dtypes: float64(1), int64(7), object(17)\n",
      "memory usage: 46.2+ MB\n"
     ]
    },
    {
     "data": {
      "text/plain": [
       "(None, None)"
      ]
     },
     "execution_count": 12,
     "metadata": {},
     "output_type": "execute_result"
    }
   ],
   "source": [
    "train.info(), test.info()"
   ]
  },
  {
   "cell_type": "code",
   "execution_count": 13,
   "metadata": {},
   "outputs": [],
   "source": [
    "train = train.iloc[:,2:]\n",
    "test = test.iloc[:,2:]"
   ]
  },
  {
   "cell_type": "code",
   "execution_count": 14,
   "metadata": {},
   "outputs": [],
   "source": [
    "train = train.copy().drop(labels='technical_solution_proposed',axis=1)"
   ]
  },
  {
   "cell_type": "code",
   "execution_count": 15,
   "metadata": {},
   "outputs": [],
   "source": [
    "train = train.copy().dropna()"
   ]
  },
  {
   "cell_type": "code",
   "execution_count": 16,
   "metadata": {},
   "outputs": [
    {
     "data": {
      "text/plain": [
       "301607"
      ]
     },
     "execution_count": 16,
     "metadata": {},
     "output_type": "execute_result"
    }
   ],
   "source": [
    "train.shape[0]"
   ]
  },
  {
   "cell_type": "code",
   "execution_count": 57,
   "metadata": {},
   "outputs": [],
   "source": [
    "from catboost import CatBoostClassifier, Pool\n"
   ]
  },
  {
   "cell_type": "code",
   "execution_count": 73,
   "metadata": {},
   "outputs": [
    {
     "name": "stdout",
     "output_type": "stream",
     "text": [
      "0.3196757123595272\n",
      "0.3193689239879962\n",
      "0.31901067768293795\n",
      "0.3189294053309947\n",
      "0.3164401872304565\n"
     ]
    }
   ],
   "source": [
    "from sklearn.tree import DecisionTreeClassifier\n",
    "from catboost.utils import eval_metric\n",
    "from sklearn.model_selection import StratifiedKFold, KFold\n",
    "from sklearn.metrics import f1_score\n",
    "\n",
    "X = train.iloc[:,:-1]\n",
    "y = train.iloc[:,-1]\n",
    "cat_features = X .select_dtypes(include='object').columns.tolist()\n",
    "one_hot_encoded = pd.get_dummies(X[cat_features])\n",
    "cols_var = [i for i in X if i not in cat_features]\n",
    "df_encoded = pd.concat([X.loc[:,cols_var], one_hot_encoded], axis=1)\n",
    "\n",
    "\n",
    "# Set up the StratifiedKFold for cross validation\n",
    "skf = StratifiedKFold(n_splits=5, shuffle=True, random_state=42)\n",
    "dt = DecisionTreeClassifier()\n",
    "# Loop through each split and fit the LightGBM model\n",
    "for train_index, test_index in skf.split(df_encoded, y):\n",
    "    X_train, X_test = df_encoded.iloc[train_index], df_encoded.iloc[test_index]\n",
    "    y_train, y_test = y.iloc[train_index], y.iloc[test_index]\n",
    "    dt.fit(X_train, y_train)\n",
    "    y_pred = dt.predict(X_test)\n",
    "    f1_macro = f1_score(y_test, y_pred, average = 'macro')\n",
    "    print(f1_macro)\n"
   ]
  },
  {
   "cell_type": "code",
   "execution_count": null,
   "metadata": {},
   "outputs": [],
   "source": []
  }
 ],
 "metadata": {
  "kernelspec": {
   "display_name": "base",
   "language": "python",
   "name": "python3"
  },
  "language_info": {
   "codemirror_mode": {
    "name": "ipython",
    "version": 3
   },
   "file_extension": ".py",
   "mimetype": "text/x-python",
   "name": "python",
   "nbconvert_exporter": "python",
   "pygments_lexer": "ipython3",
   "version": "3.9.7"
  },
  "orig_nbformat": 4
 },
 "nbformat": 4,
 "nbformat_minor": 2
}
